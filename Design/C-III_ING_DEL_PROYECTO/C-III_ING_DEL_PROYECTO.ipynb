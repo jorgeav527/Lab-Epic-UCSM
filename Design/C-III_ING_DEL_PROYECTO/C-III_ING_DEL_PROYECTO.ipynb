{
 "cells": [
  {
   "cell_type": "markdown",
   "metadata": {
    "slideshow": {
     "slide_type": "-"
    }
   },
   "source": [
    "# Capitulo III: INGENIERÍA DEL PROYECTO\n",
    "---"
   ]
  },
  {
   "cell_type": "markdown",
   "metadata": {
    "slideshow": {
     "slide_type": "-"
    }
   },
   "source": [
    "## 3.1  Descripción del proyecto\n",
    "\n",
    "Los laboratorios de Ingeniería Civil de la  UCSM deben contar con su propia Pagina Web, que permita el manejo de la información de cálculos, estadistica, gráficos y resultados de los diferentes ensayos, así mismo la información de alumnos para efectos de prestamos de material. La información se encuentra en una PC y no en un servidor.\n"
   ]
  },
  {
   "cell_type": "markdown",
   "metadata": {
    "slideshow": {
     "slide_type": "-"
    }
   },
   "source": [
    "## 3.2  Objetivos del Proyecto\n",
    "\n",
    "3.2.1. Objetivos primarios\n",
    "\n",
    "   * Tener un sistema para los diferentes ensayos del laboratorio.\n",
    "   * Tener información segura y confiable.\n",
    "\n",
    "3.2.2 Objetivos secundarios\n",
    "\n",
    "   * Pagina Web propia para el LAB EPIC.\n",
    "   * Tener un servicio en la Pagina Web para el sector ACADEMICO y SERVICIOS A TERCEROS\n",
    "   * Tener una base de datos  de los diferentes ensayos que se realizan.\n",
    "   * Brindar de manera digital a nuestros clientes los resultados de los diferentes ensayos."
   ]
  },
  {
   "cell_type": "markdown",
   "metadata": {
    "slideshow": {
     "slide_type": "-"
    }
   },
   "source": [
    "## 3.3 Propuesta  Técnica"
   ]
  },
  {
   "cell_type": "markdown",
   "metadata": {
    "slideshow": {
     "slide_type": "-"
    }
   },
   "source": [
    "### Topología en el sistema\n",
    "\n",
    "* El sistema será capaz de soportar una red de topología estrella sin depender del tamaño de este.\n",
    "\n",
    "* Esta red será la Internet por las siguientes razones:\n",
    "\n",
    "    * La no necesidad de tender una red en el negocio y no depender de un administrador de esta.\n",
    "    * Por el fácil acceso al sistema por la futura Pagina Web del negocio.\n",
    "    * La utilización de un lenguaje de programación freeware para Internet.\n",
    "    * Usuarios siempre beneficiados por la información de los ensayos realizados en el laboratorio.\n",
    "    * Una ventana abierta para que nuestros clientes estén enterados de nuevos equipos o técnicas adquiridas por el laboratorio.\n",
    "    * Información ordenada."
   ]
  },
  {
   "cell_type": "markdown",
   "metadata": {
    "slideshow": {
     "slide_type": "-"
    }
   },
   "source": [
    "### Modelamiento.\n",
    "\n",
    "El proyecto contara con cuatro partes principales (Design, Frontend, Backend y DataScience) las cuales se subdividirán de forma compleja para tener un resultado óptimo de alta calidad y efectivo.\n",
    "\n",
    "| Partes | Fases |\n",
    "| :---| :---|\n",
    "| 1. Parte | DESIGN |\n",
    "| 2. Parte | FRONTEND |\n",
    "| 3. Parte | BACKEND |\n",
    "| 4. Parte | DATASCIENCE|"
   ]
  },
  {
   "cell_type": "markdown",
   "metadata": {
    "slideshow": {
     "slide_type": "-"
    }
   },
   "source": [
    "**1. DESIGN .-**\n",
    "\n",
    "Diseño de la Arquitectura en general tanto del Frontend, Backend y DataScience (Ciencia de datos), tomando en cuenta los requerimientos para cada área o sector del LAB EPIC y empleando el ambiente (Framework) que mejor se adapte para las diferentes partes del sistema."
   ]
  },
  {
   "cell_type": "markdown",
   "metadata": {
    "slideshow": {
     "slide_type": "-"
    }
   },
   "source": [
    "1.1. Frontend\n",
    "    \n",
    "   * Mock Ups: Permitirá mostrar una idea más aproximada de cómo se vería su diseño final en diferentes formatos: papel, páginas web, papelería, rótulos, vinilos, carteles con resultados muy realistas y bastante aproximados a la realidad."
   ]
  },
  {
   "cell_type": "markdown",
   "metadata": {
    "slideshow": {
     "slide_type": "-"
    }
   },
   "source": [
    "1.2 Backend\n",
    "    \n",
    "   * Lenguaje Unificado de Modelado (UML, por sus siglas en inglés, Unified Modeling Language): Es el lenguaje de modelado de sistemas de software más conocido y utilizado en la actualidad; está respaldado por el OMG (Object Management Group). Es un lenguaje gráfico para visualizar, especificar, construir y documentar un sistema de software. UML ofrece un estándar para describir un \"plano\" del sistema (modelo), incluyendo aspectos conceptuales tales como procesos de negocios y funciones del sistema, y aspectos concretos como expresiones de lenguajes de programación, esquemas de bases de datos y componentes de software reutilizables.\n",
    "       * UML Sketching para comunicar ideas y para integrar los diferentes sistemas de la Pagina Web."
   ]
  },
  {
   "cell_type": "markdown",
   "metadata": {
    "slideshow": {
     "slide_type": "-"
    }
   },
   "source": [
    "1.3 DataScience\n",
    "\n",
    "   * Estandarizacion de Datos y reportes para que todos los departamentos o áreas del LAB EPIC tenga un mismo formato de trabajo de prueba recolección análisis y resultados.\n",
    "   \n",
    "    \n",
    "   * Conoser los Sectores de la Industria (ensayos, estadística, flujo de caja, maquinas y materiales), para esto se nececitara la colaboración de los principales mienbros de cada departamento (Hidráulica, Concreto, Suelos, Pavimentos. Estructuras).\n",
    "   \n",
    "\n",
    "   * Conoser porque los reportes fueron creados y que se quiere llegar a conoser, tanto en lo Académico como los Servicios a Terceros."
   ]
  },
  {
   "cell_type": "markdown",
   "metadata": {},
   "source": [
    "**2. FRONTEND .-** \n",
    "\n",
    "Frontend es la parte de un programa o dispositivo a la que un usuario puede acceder directamente. Son todas las tecnologías de diseño y desarrollo web que corren en el navegador y que se encargan de la interactividad con los usuarios. \n",
    "\n",
    "HTML, CSS y JavaScript son los lenguajes principales del Frontend, de los que se desprenden una cantidad de frameworks y librerías que expanden sus capacidades para crear cualquier tipo de interfaces de usuarios. *React*, *Redux*, Angular, *Bootstrap*, Foundation, LESS, *Sass*, Stylus y PostCSS son algunos de ellos."
   ]
  },
  {
   "cell_type": "markdown",
   "metadata": {},
   "source": [
    "* Contenido: Eso significa que debe tener contenido interesante y objetivo que atraiga (y atrape) al público objetivo.\n",
    "\n",
    "\n",
    "* Tipografía: También es importante variar el tamaño de una misma fuente para resaltar secciones interesantes del contenido y del texto.\n",
    "\n",
    "\n",
    "* Imágenes y Logotipos: En el diseño web es muyimportante las buenas fotografías, preferentemente tomadas por un profesional y los logotipos que representen a la entidad.\n",
    "\n",
    "\n",
    "* Animaciones y movimiento: Solo si es necesario.\n",
    "\n",
    "\n",
    "* Botones e iconos: Utilizar botones prácticos y representativos, así como iconos grandes y vistosos aumenta la facilidad de navegación en la página.\n",
    "\n",
    "\n",
    "* Fondos claros y sencillos: Los fondos claros, totalmente blancos facilitan la visualización, pero también dan un aspecto despejado a la página resaltando las imágenes.\n",
    "\n",
    "\n",
    "* Enlaces a redes: Es de gran ayuda para los usuarios colocar enlaces a redes sociales con las cuales interactúan con facilidad. Esto ayuda además a crear una comunidad.\n",
    "\n",
    "\n",
    "* Sobriedad: Saturar al cibernauta es contraproducente.\n",
    "\n",
    "\n",
    "* El lenguaje HTML (HyperText Markup Language) nos aporta la estructura básica del sitio Web, mejorada y modificada por otras tecnologías como CSS y JavaScript.\n",
    "\n",
    "\n",
    "* CSS u Hojas de Estilo en Cascada (Cascading StyleSheets)  se utiliza para controlar la presentación, elformato, y el diseño de nuestra aplicación.\n",
    "\n",
    "\n",
    "* JavaScript se utiliza para controlar el comportamiento de los diferentes elementos, esto es, aporta funcionalidad,  dinámica, a nuestros elementos.\n",
    "\n",
    "\n",
    "* Filosofía SEM (Scalable, Extensible, Maintainable) para tener un proyecto escalable donde los elementospuedan reutilizarse sin la modificación del códigofuente, extensible donde cada sección pueda crecer sin romper su funcionalidad y de mantenimiento donde el codigo pueda ser entendible para otro programador facilitando el mantenimiento  de la Pagina Web.\n",
    "\n",
    "\n",
    "* Tecnica BIO (BEM, ITCSS, OOCSS)\n",
    "    * BEM (Block, Element, Modifier)\n",
    "    * OOCSS (Object Oriented CSS)\n",
    "    * ITCSS (Inverted Triangle CSS)"
   ]
  },
  {
   "cell_type": "markdown",
   "metadata": {},
   "source": [
    "**3. BACKEND .-**\n",
    "\n",
    "Backend es la capa de acceso a datos de un software o cualquier dispositivo, que no es directamente accesible por los usuarios, además contiene la lógica de la aplicación que maneja dichos datos. \n",
    "\n",
    "El Backend también accede al servidor, que es una aplicación especializada que entiende la forma como el navegador solicita cosas.Algunos de los lenguajes de programación de Backend son Python, PHP, Ruby, C# y Java, y así como en Frontend, cada uno de los anteriores tiene diferentes frameworks que te permiten trabajar mejor según el proyecto que estás desarrollando."
   ]
  },
  {
   "cell_type": "markdown",
   "metadata": {},
   "source": [
    "* UML Blueprint informacion detallada de los diseños y decisiones para un crecimiento continuo y un mantenimiento sostenible.\n",
    "\n",
    "    * Diagrama de Clases\n",
    "    * diagrama de Objetos\n",
    "    * Diagrama de Casos de Uso\n",
    "    * Diagrama de Estados\n",
    "    * Diagrama de Secuencias\n",
    "    * Diagrama de Actividades\n",
    "    * Diagrama de Colaboraciones\n",
    "    * Diagrama de Componentes\n",
    "    * Diagrama de distribución\n",
    "    * Otros"
   ]
  },
  {
   "cell_type": "markdown",
   "metadata": {},
   "source": [
    "* Contar con una Arquitectura dirigida por modelos (MDA) con una plataforma especifica.\n",
    "\n",
    "\n",
    "* Implementación Git & Github (Version Control System) para poder controlar todos los cambios que se hacen en nuestra aplicación y en nuestro código, vamos a tener control absoluto de todo lo que pasa en el código, pudiendo volver atrás en el tiempo, pudiendo abrir diferentes ramas de desarrollo, etc.\n",
    "\n",
    "\n",
    "* Utilización del entonrno Linux Distro Ubuntu, es fácil de usar si tienes la suficiente experiencia e incluye toneladas de software especializado en el desarrollo de software en codigo abierto.\n",
    "\n",
    "\n",
    "* Utilización de protocolo HTTPS (Hypertext Transfer Protocol Secure), manera más segura para poder acceder a los contenidos que nos ofrece Internet, ya que cualquier dato o información que introduzcamos será cifrado, lo que garantiza que no podrá ser vista por nadie más que el cliente y el servidor."
   ]
  },
  {
   "cell_type": "markdown",
   "metadata": {},
   "source": [
    "| HTTP | HTTPS |\n",
    "| :--- | :--- |\n",
    "| URL comienza con \"http:// | URL comienza con \"https:// |\n",
    "| Sin garantia | Asegurado |\n",
    "| Funciona a nivel de aplicación | Funciona a nivel de transporte |\n",
    "| Sin cifrado | Con cifrado |\n",
    "| No hay certificados requeridos | Certificados prescrito |"
   ]
  },
  {
   "cell_type": "markdown",
   "metadata": {},
   "source": [
    "* Python para el backend:\n",
    "    * Por que posee una cantidad considerable de API´s web avanzadas, **Django**, Flask y Pyramids. \n",
    "    * Es un lenguaje bastante maduro.\n",
    "    * Cuenta con una amplia comunidad que mantiene actualizado el lenguaje y apoya en la resolución de posibles conflictos que se generen dentro del código.\n",
    "    * Al igual que Node.js y PHP, Python cuenta con Pyenv para tener un ambiente virtual de trabajo especifico con administración de paquetes *PIP* y *PIP.lock*.\n",
    "    * Tanto PHP(1995) como Python(1989) son lenguajes de programación bastante maduros. Ambos tienen una comunidad gigante de programadores que brindan soporte. La linea de aprendizaje es mucho más simple en Python que en PHP y mucho más legible. Python es mucho mas versátil en aplicaciones  y en cualquier objetivo de programación, con velocidad y fluidez eficientes."
   ]
  },
  {
   "cell_type": "markdown",
   "metadata": {},
   "source": [
    "* Se utilizará la formula LAMP (Linux Apache MySQL PHP/Python/Perl), en un entorno de trabajo Linux. Administración de una base de datos SQL,Servidor Apache, y programación Python para RESTful APIs y autentificacion de datos JSON (JavaScript Object Notation).\n",
    "\n",
    "\n",
    "* Todos los Programas previamente mencionados con GNU (General Public License) de Software Libre.\n",
    "\n",
    "\n",
    "* Hosting (Amazon Web Services o Microsoft Azure o Google Cloud Platform o **Digital Ocean**).\n",
    "\n",
    "\n",
    "* Si existe un flujo de trafico de datos considerable o velocidad de crecimiento que dificulta el manejo de datos eficientemente y un volumen de dato es mayor a 30 Terabytes se procederá a tecnologías adecuadas y a un estudio mucho mas detallado, Servidores Dedicados."
   ]
  },
  {
   "cell_type": "markdown",
   "metadata": {},
   "source": [
    "**4. DATASCIENCE .-**\n",
    "\n",
    "Un concepto para unificar estadísticas, análisis de datos, aprendizaje automático y sus métodos relacionados para comprender y analizar los fenómenos reales\", empleando técnicas y teorías extraídas de muchos campos dentro del contexto de las matemáticas, la estadística, la ciencia de la información y la informática."
   ]
  },
  {
   "cell_type": "markdown",
   "metadata": {},
   "source": [
    "* Las habilidades para analizar datos efectivamente y mostrar resultados son:\n",
    "    * Dominio de las Matemáticas, estadística y probabilidades.\n",
    "    * Habilidades para Programar y un pensamiento informático.\n",
    "    * Dominio del campo de acción a aplicar (Ingeniería Civil). \n",
    "    \n",
    "        \n",
    "* Para la gestión de datos, calculos y gráficos el entorno de trabajo sera Jupyter Lab o R gestionado por Anaconda, que cuenta con las principales librerías para gestionar los datos (Pandas) realizar calculos (Numpy), estadistica (Scipy), graficos y visualizaciones (Matplotlib, Seaborn, Bokeh, Plotly) y H2O o TensorFlow para aplicar algoritmos de aprendizaje de datos y predicciones.\n",
    "\n",
    "\n",
    "* Para el análisis y el ritmo de trabajo de cada departamento del LAB EPIC se procederá de la siguiente forma [(Source)](https://medium.com/cracking-the-data-science-interview/how-to-think-like-a-data-scientist-in-12-steps-157ea8ad5da8):"
   ]
  },
  {
   "cell_type": "markdown",
   "metadata": {},
   "source": [
    "| * | Fases |\n",
    "| :--- | :--- |\n",
    "| Primera Fase | **Preparacion** |\n",
    "| Segunda Fase | **Construccion** |\n",
    "| Tercera Fase | **Refinamiento** |"
   ]
  },
  {
   "cell_type": "markdown",
   "metadata": {},
   "source": [
    "#### Fase I Preparación\n",
    "\n",
    "Tenemos que establecer bases: *Que sabemos?, Que tenemos?, Que podemos obtener?, Donde estamos? y Donde queremos llegar con los datos y procesos que tenemos actualmente.*"
   ]
  },
  {
   "cell_type": "markdown",
   "metadata": {},
   "source": [
    "1.- Establecer metas\n",
    "\n",
    "La meta principal se establecería en las primeras semanas de empezar la Pagina Web, Usando la data generada años atrás para obtener estadísticas de los diferentes procesos, las maquinas horas empleadas, servicios a terceros, flujo de caja y todo lo referente con el funcionamiento del LAB EPIC.\n",
    "\n",
    "Ejecutar un análisis perspicaz de los datos relevantes o confiables para realizar las mejores preguntas como: *Que es posible realizar con los datos obtenidos?, Que tiene valor en el proceso o en los datos obtenidos?, Que seria lo más eficiente hacer con la data obtenida años atrás?.* Aplicando este filtro a cada objetivo nos ayudaría a trazar un esquema más claro sobre las metas a lograr."
   ]
  },
  {
   "cell_type": "markdown",
   "metadata": {},
   "source": [
    "2.- Exploración de los datos\n",
    "\n",
    "En este punto se explora el tipo de formato que se tiene (Flat Files (**csv, tsv**), HTML, XML, JSON, Base de Datos Relacional y no Relacional, Base de datos, APIs). Familiarícese con los formatos utilizados para manipular los."
   ]
  },
  {
   "cell_type": "markdown",
   "metadata": {},
   "source": [
    "3.- Transformación de datos\n",
    "\n",
    "Uniformizando todos los archivos de datos para asegurar un control absoluto y poder navegar con fluidez y precisión. Por ser Excel el software más utilizado en la industria se optara por usar una base de datos SQL para interactuar con los diferentes procesos, técnicas, experimentos y pruebas que se realizan en los departamentos del LAB EPIC.  "
   ]
  },
  {
   "cell_type": "markdown",
   "metadata": {},
   "source": [
    "4.- Limpieza de los datos\n",
    "\n",
    "Proceso de limpieza de datos, para cada uno de los sistemas y procesos del LAB EPIC es diferente y conlleva estrategias que los jefes de departamentos determinaran como soluciones a valores atípicos (Outliers) o datos que puedan causar un sesgo (Bias) en la estadística descriptiva."
   ]
  },
  {
   "cell_type": "markdown",
   "metadata": {},
   "source": [
    "5.- Evaluando datos\n",
    "\n",
    "El paso siguiente despues de una limpieza de datos es calcular estadísticas descriptivas máximos, mínimos, promedios, desviación estándar, en general un resumen del conjunto de datos para descartar problemas de precisión o especificidad. \n",
    "\n",
    "Sin una evaluación principal y sin estar seguros que manejamos una data consistente y segura se regresaría al paso 3. Luego podríamos obtener estadística inferencial para saber que podemos concluir de los datos evaluados de una manera superficial."
   ]
  },
  {
   "cell_type": "markdown",
   "metadata": {},
   "source": [
    "#### Fase II Construcción\n",
    "\n",
    "De la planificación a la ejecución, usamos todo lo aprendido en la fase de preparación y lo combinamos con estadística y un software o lenguaje de programación. En esta fase ya estaremos en la capacidad de responder algunas de las preguntas que nos habiamos planeado como metas."
   ]
  },
  {
   "cell_type": "markdown",
   "metadata": {},
   "source": [
    "6.- Plan de desarrollo\n",
    "\n",
    "Enfocandonos en las metas y conociendo mucho mas sobre los diferentes sistemas del LAB EPIC, crearemos un plan que nos acerque rápida y efectivamente a las metas y respuestas esperadas, la comunicación con los jefes de departamentos es básica, para crear el plan de trabajo y obtener una respuesta de valor."
   ]
  },
  {
   "cell_type": "markdown",
   "metadata": {},
   "source": [
    "7.- Analisis de Datos\n",
    "\n",
    "La matemática y estadística están sumamente relacionas luego de obtener Estadística Descriptiva e Inferencial de una manera más profunda luego se procederá a plantear modelos estadísticos como:\n",
    "    \n",
    "   * Ecuaciones lineales, exponenciales, polinómicas, diferenciales, no lineales.\n",
    "   * Variables latentes.\n",
    "   * Cuantificación de la incertidumbre: aleatoriedad, varianza y términos de error.\n",
    "   * Estadísticas bayesianas vs frecuentistas.\n",
    "   * Prueba de hipótesis.\n",
    "   * Agrupación.\n",
    "   \n",
    "Solo si se requiere se utilizaría modelos de métodos de caja negra (Black Box Methods)\n",
    "\n",
    "   * Random forest.\n",
    "   * Neural network."
   ]
  },
  {
   "cell_type": "markdown",
   "metadata": {},
   "source": [
    "8.- Ingeniería de software\n",
    "\n",
    "Si la estadística es marco de trabajo para analizar y extraer conclusiones entonces se escojerá una herramienta de trabajo. Dentro del basto mundo de los softwares los más conocidos son Excel, SPSS, SAS. que destacan por tener una interfaz gráfica de usuario (GUI).\n",
    "\n",
    "Por otro lado tenemos a los lenguajes de programación como MATLAB y su versión open source Octave, lenguaje R que tiene cientos de librerías y paquetes que se pueden descargar del sitio web CRAN y Python por su rápida linea de aprendizaje sus librerías (Numpy, Pandas, Scipy, Scikit-learn, Matplotlib, Django, etc). *Escojo Python como herramienta de trabajo por su flexibilidad en lo que se refiere a propósito, fácil implementación de metodos estadísticos, la excelente documentación de cada librería y por que al ser de código abierto se tiene una amplia comunidad de programadores que brindan soluciones a diversos problemas y de esa manera aportar al crecimiento del lenguaje.*"
   ]
  },
  {
   "cell_type": "markdown",
   "metadata": {},
   "source": [
    "9.- Optimización de los datos\n",
    "\n",
    "Para la optimización de los datos al ser una Pagina Web que albergara datos relacionales se utiliza SQL en MySQL y albergada un un servicio de nube (cloud services)."
   ]
  },
  {
   "cell_type": "markdown",
   "metadata": {},
   "source": [
    "10.- Ejecución del Plan\n",
    "\n",
    "Se procederá a encapsular cada departamento del LAB EPIC en diferentes secciones para realizar un modelo de recopilación de datos, y ejecución de prosesos y extracción de resultados junto con gráficos dentro de la pagina web. Se implementará una sección de de estadísticas de tales procesos para fines educativos y de negocio.\n",
    "\n",
    "Los planes tendrán que contemplar multiples caminos y depender de los resultados, metas fechas limites se tiene que ser adaptativo a los diferentes requerimientos de cada departamento del plantel."
   ]
  },
  {
   "cell_type": "markdown",
   "metadata": {},
   "source": [
    "#### Fase III Termino\n",
    "\n",
    "Entregar el producto, obtener retroalimentación (feedback), realizar revisiones, respaldar el producto y concluir el proyecto."
   ]
  },
  {
   "cell_type": "markdown",
   "metadata": {},
   "source": [
    "11.- Entrega del producto\n",
    "\n",
    "Luego de finalizar con la ejecución del plan se pone en funcionamiento dejando a los internautas y jefes de departamentos alimentar y se acostumbren al nuevo sistema de trabajo entregando reportes sobre el funcionamiento de la Pagina Web el transito de datos y de los resultados que se están obteniendo a traves de los diferentes accesos al director del proyecto."
   ]
  },
  {
   "cell_type": "markdown",
   "metadata": {},
   "source": [
    "12.- Haciendo Revisiones\n",
    "\n",
    "Despues de la entrega del producto y luego de recibir diferentes feedbacks se prosede a la revisión y ajuste de los diferentes problemas que irán apareciendo.\n",
    "\n",
    "Hacer las debidas correcciones puede ser un trabajo arduo y tedioso por la dificultad de enfrentarse a diferentes imprevistos, encontrar una apropiada solucion e implementar una estrategia adecuada. Pero sí durante el proceso se fue detallista y minucioso los problemas son pocos y fáciles de arreglar."
   ]
  },
  {
   "cell_type": "markdown",
   "metadata": {},
   "source": [
    "13.- Cierre del proyecto\n",
    "    \n",
    "Para concluir con el proyecto se llevara acabo junto con el proyecto un blog donde se contara el procedimiento paso a paso y junto con ella una documentación. detallada sobre el funcionamiento adecuado de la Pagina Web."
   ]
  },
  {
   "cell_type": "code",
   "execution_count": null,
   "metadata": {},
   "outputs": [],
   "source": []
  }
 ],
 "metadata": {
  "celltoolbar": "Slideshow",
  "kernelspec": {
   "display_name": "Python 3",
   "language": "python",
   "name": "python3"
  },
  "language_info": {
   "codemirror_mode": {
    "name": "ipython",
    "version": 3
   },
   "file_extension": ".py",
   "mimetype": "text/x-python",
   "name": "python",
   "nbconvert_exporter": "python",
   "pygments_lexer": "ipython3",
   "version": "3.7.0"
  }
 },
 "nbformat": 4,
 "nbformat_minor": 2
}
