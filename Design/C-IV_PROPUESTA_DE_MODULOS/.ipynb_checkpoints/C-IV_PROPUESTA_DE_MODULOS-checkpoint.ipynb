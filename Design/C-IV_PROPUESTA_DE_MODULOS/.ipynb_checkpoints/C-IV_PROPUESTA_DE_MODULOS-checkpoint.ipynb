{
 "cells": [
  {
   "cell_type": "markdown",
   "metadata": {},
   "source": [
    "# CAPITULO  IV: PROPUESTA DE MÓDULOS\n",
    "---"
   ]
  },
  {
   "cell_type": "markdown",
   "metadata": {},
   "source": [
    "## 4.1 Modulos"
   ]
  },
  {
   "cell_type": "markdown",
   "metadata": {},
   "source": [
    "4.1.1 Modulo de ensayos\n",
    "\n",
    "Modulo en el cual tras un ingreso de datos se podrá calcular resultados y gráficas de acuerdo a los diferentes ensayos de suelos y concreto que oferta el laboratorio."
   ]
  },
  {
   "cell_type": "markdown",
   "metadata": {},
   "source": [
    "4.1.1 Modulo de estadísticas\n",
    "\n",
    "Modulo en el cual se podrá obtener distintas estadísticas de los clientes tras un filtro de información, estas estadísticas serán obtenidas por el clientes con su información o por el usuario del laboratorio con toda la información de los diferentes clientes."
   ]
  },
  {
   "cell_type": "markdown",
   "metadata": {},
   "source": [
    "4.1.3   Modulo de flujo de caja\n",
    "\n",
    "Modulo en el cual se podrá obtener el flujo de dinero que se mueve dentro del laboratorio"
   ]
  },
  {
   "cell_type": "markdown",
   "metadata": {},
   "source": [
    "4.1.4 Modulo de topografía\n",
    "\n",
    "Modulo en el cual se podrá manejar  una base de datos de los alumnos con matricula vigente,  para los grupos de practica, inventario de equipos, estadísticas de uso mensual, semestral y anual,  para efectuar prestamos en horario de clases o fuera del horario de clases,  con esta información se podrá realizar mantenimientos, adquisiciones y manejo de equipo existente."
   ]
  },
  {
   "cell_type": "markdown",
   "metadata": {},
   "source": [
    "## 4.2 Descripción"
   ]
  },
  {
   "cell_type": "markdown",
   "metadata": {},
   "source": [
    "* Se tendrán múltiples tipos de usuarios dentro la aplicación Web: \n",
    "\n",
    "    * Alumnos\n",
    "    * Tesistas\n",
    "    * Profesores \n",
    "    * Técnicos\n",
    "    * Administrativos\n",
    "    * Clientes Externos"
   ]
  },
  {
   "cell_type": "markdown",
   "metadata": {},
   "source": [
    "<img src=\"./img/Actores.png\">"
   ]
  },
  {
   "cell_type": "markdown",
   "metadata": {},
   "source": [
    "* La pagina se dividirá en sectores a los cuales se accederá con diferentes permisos de usuarios.\n",
    "\n",
    "    * Programas\n",
    "    * Servicios a terceros\n",
    "    * Sector académico\n",
    "    * Sector estadístico\n",
    "    * Sector informativo"
   ]
  },
  {
   "cell_type": "markdown",
   "metadata": {},
   "source": [
    "<img src=\"./img/Aplicación Web.png\">"
   ]
  },
  {
   "cell_type": "markdown",
   "metadata": {},
   "source": [
    "* Los programas se dividirán en departamentos y estos a su vez tendrán sus respectivos ensayos ( Granulometría, Diseño de Mezclas, etc), que serán desarrollados bajo la supervisión y trabajo en conjunto con los diferentes responsables de área para automatizar y uniformizar la generación de resultados:\n",
    "\n",
    "    * Suelos\n",
    "    * Concreto\n",
    "    * Pavimentos\n",
    "    * Hidráulica"
   ]
  },
  {
   "cell_type": "markdown",
   "metadata": {},
   "source": [
    "<img src=\"./img/Programas.png\">"
   ]
  },
  {
   "cell_type": "markdown",
   "metadata": {},
   "source": [
    "* Los servicios a terceros tendrán un sistema aparte que permitirá la generación de permisos para la área técnica, que brindara el área contable y todo estará supervisado y autorizado por el coordinador."
   ]
  },
  {
   "cell_type": "markdown",
   "metadata": {},
   "source": [
    "<img src=\"./img/Servicios a Terceros.png\">"
   ]
  },
  {
   "cell_type": "markdown",
   "metadata": {},
   "source": [
    "* El sector académico contara con dos partes:\n",
    "\n",
    "    * Área de pre-grado\n",
    "    * Área de tesistas o profesional"
   ]
  },
  {
   "cell_type": "markdown",
   "metadata": {},
   "source": [
    "* El área de pre-grado contara con los respectivos programas de practicas que serán implementados con fotografías y guías practicas, que facilitaran el estudio a los alumnos.\n",
    "\n",
    "* El área de tesistas estará conformado por el \n",
    "\n",
    "    * Archivo de tesis\n",
    "    * Formatos ( Tesista y donación )\n",
    "    * Normativa y reglamentos."
   ]
  },
  {
   "cell_type": "markdown",
   "metadata": {},
   "source": [
    "<img src=\"./img/Sector Academico.png\">"
   ]
  },
  {
   "cell_type": "markdown",
   "metadata": {},
   "source": [
    "*  El Sector de certificados será la base de datos donde se almacenará detalladamente cada proceso del laboratorio, sobre todo el uso de equipos, generando informacion en tiempo real que se podra imprimir en su debido formato."
   ]
  },
  {
   "cell_type": "markdown",
   "metadata": {},
   "source": [
    "<img src=\"./img/Sector de Certificados.png\">"
   ]
  },
  {
   "cell_type": "markdown",
   "metadata": {},
   "source": [
    "* El sector de estadísticas que será solo de acceso limitado al personal de coordinación y administración para facilitar el mantenimiento de estructuras, maquinas entre otros, y sobre todo para brindar una mejor atenciaon al cliente. Esta fase del proyecto se realizará conforme se concluya con la base y el funcionamiento correcto del proyecto."
   ]
  },
  {
   "cell_type": "markdown",
   "metadata": {},
   "source": [
    "<img src=\"./img/Sector Estadístico.png\">"
   ]
  },
  {
   "cell_type": "markdown",
   "metadata": {},
   "source": [
    "* El sector informativo, donde se colocarán informaciones relevantes sobre las instalaciones del laboratorio."
   ]
  },
  {
   "cell_type": "markdown",
   "metadata": {},
   "source": [
    "<img src=\"./img/Sector Informativo.png\">"
   ]
  },
  {
   "cell_type": "code",
   "execution_count": null,
   "metadata": {},
   "outputs": [],
   "source": []
  }
 ],
 "metadata": {
  "kernelspec": {
   "display_name": "Python 3",
   "language": "python",
   "name": "python3"
  },
  "language_info": {
   "codemirror_mode": {
    "name": "ipython",
    "version": 3
   },
   "file_extension": ".py",
   "mimetype": "text/x-python",
   "name": "python",
   "nbconvert_exporter": "python",
   "pygments_lexer": "ipython3",
   "version": "3.7.0"
  }
 },
 "nbformat": 4,
 "nbformat_minor": 2
}
