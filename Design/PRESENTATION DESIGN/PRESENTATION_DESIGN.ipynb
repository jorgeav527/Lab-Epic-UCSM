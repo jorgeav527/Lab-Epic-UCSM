{
 "cells": [
  {
   "cell_type": "markdown",
   "metadata": {
    "slideshow": {
     "slide_type": "slide"
    }
   },
   "source": [
    "# INTRODUCIÓN\n",
    "### Jorge Ramiro Alarcón Vargas\n",
    "---"
   ]
  },
  {
   "cell_type": "markdown",
   "metadata": {
    "slideshow": {
     "slide_type": "slide"
    }
   },
   "source": [
    "<img src=\"./img/bebe.jpeg\">\n",
    "<img src=\"./img/libros.jpeg\">"
   ]
  },
  {
   "cell_type": "markdown",
   "metadata": {
    "slideshow": {
     "slide_type": "slide"
    }
   },
   "source": [
    "<table><tr><td><img src='./img/exel.png' width='500px'></td><td><img src='./img/q.png' width='500px'></td></tr></table>"
   ]
  },
  {
   "cell_type": "markdown",
   "metadata": {
    "slideshow": {
     "slide_type": "slide"
    }
   },
   "source": [
    "<table><tr><td><img src=\"./img/c1.jpg\" width='500px'></td><td><img src=\"./img/colombia.jpg\" width='500px'></td></tr></table>"
   ]
  },
  {
   "cell_type": "markdown",
   "metadata": {
    "slideshow": {
     "slide_type": "slide"
    }
   },
   "source": [
    "<table><tr><td><img src=\"./img/brasil.jpg\" width='500px'></td><td><img src=\"./img/caer.jpg\" width='500px'></td></tr></table>"
   ]
  },
  {
   "cell_type": "markdown",
   "metadata": {
    "slideshow": {
     "slide_type": "slide"
    }
   },
   "source": [
    "<img src=\"./img/i.jpg\">"
   ]
  },
  {
   "cell_type": "markdown",
   "metadata": {
    "slideshow": {
     "slide_type": "slide"
    }
   },
   "source": [
    "<img src=\"./img/web.jpeg\" width='500px'>"
   ]
  },
  {
   "cell_type": "markdown",
   "metadata": {
    "slideshow": {
     "slide_type": "slide"
    }
   },
   "source": [
    "<img src=\"./img/byf.jpg\" width=\"500px\" height=\"400px\">"
   ]
  },
  {
   "cell_type": "markdown",
   "metadata": {
    "slideshow": {
     "slide_type": "slide"
    }
   },
   "source": [
    "<img src=\"./img/len.jpg\">"
   ]
  },
  {
   "cell_type": "markdown",
   "metadata": {
    "slideshow": {
     "slide_type": "slide"
    }
   },
   "source": [
    "<table><tr><td><img src=\"./img/image02.jpg\" width=\"600px\"></td><td><img src=\"./img/backend.png\" width=\"600px\"></td></tr></table>"
   ]
  },
  {
   "cell_type": "markdown",
   "metadata": {
    "slideshow": {
     "slide_type": "slide"
    }
   },
   "source": [
    "<img src=\"./img/data.png\">"
   ]
  },
  {
   "cell_type": "markdown",
   "metadata": {
    "slideshow": {
     "slide_type": "slide"
    }
   },
   "source": [
    "<table><tr><td><img src=\"./img/py.jpg\" width=\"600px\"></td><td><img src=\"./img/mk.png\" width=\"600px\"></td></tr></table>"
   ]
  },
  {
   "cell_type": "markdown",
   "metadata": {
    "slideshow": {
     "slide_type": "slide"
    }
   },
   "source": [
    "<img src=\"./img/t.jpg\">"
   ]
  },
  {
   "cell_type": "markdown",
   "metadata": {
    "slideshow": {
     "slide_type": "slide"
    }
   },
   "source": [
    "<img src=\"./img/fit.jpg\" width=\"600px\">"
   ]
  },
  {
   "cell_type": "markdown",
   "metadata": {
    "slideshow": {
     "slide_type": "slide"
    }
   },
   "source": [
    "># **“Sistematización y Elaboración de Pagina Web  de los Laboratorios de Ingeniería Civil – FAICA - UCSM”**"
   ]
  },
  {
   "cell_type": "markdown",
   "metadata": {
    "slideshow": {
     "slide_type": "slide"
    }
   },
   "source": [
    "# CAPITULO I: ASPECTOS GENERALES\n",
    "---"
   ]
  },
  {
   "cell_type": "markdown",
   "metadata": {
    "slideshow": {
     "slide_type": "slide"
    }
   },
   "source": [
    "Los Laboratorios  prestan  servicios académicos, a los grupos de práctica de los diversos cursos del Programa, que así lo requieran, como parte del desarrollo curricular y  su futuro desarrollo profesional. Así mismo se ha generado la prestación de  servicios  a la comunidad.\n",
    "\n",
    "Estos servicios se han ido incrementando con el tiempo, y el manejo de la información ha crecido con la demanda, lo cual ocasiona un retraso en la ejecución de las actividades del laboratorio, generando pérdidas y costo extras."
   ]
  },
  {
   "cell_type": "markdown",
   "metadata": {
    "slideshow": {
     "slide_type": "slide"
    }
   },
   "source": [
    "### Por lo expuesto, se requiere la sistematización y optimización de los procesos del laboratorio con la implementación de un sistema de información hecho a la medida, que facilite la labor que realiza el personal y el aseguramiento de la información producida en el laboratorio.\n",
    "\n",
    "### Beneficiarios:\n",
    "\n",
    "* Alumnos regulares, egresados,  docentes y no docentes de la Universidad Católica de Santa María, específicamente del Laboratorio de Ing Civil.  \n",
    "* En la parte externa tenemos los clientes del Sector Construcción."
   ]
  },
  {
   "cell_type": "markdown",
   "metadata": {
    "slideshow": {
     "slide_type": "slide"
    }
   },
   "source": [
    "# CAPITULO II: IDENTIFICACIÓN\n",
    "---"
   ]
  },
  {
   "cell_type": "markdown",
   "metadata": {
    "slideshow": {
     "slide_type": "slide"
    }
   },
   "source": [
    "### CALIDAD EN LA APLICACIÓN\n",
    "\n",
    "La calidad de la aplicación esta siempre en función del propósito y encontrar este propósito es difícil por la complejidad o la vaga idea que se tenga al montar una aplicación.\n",
    "\n",
    ">### \"Muchas veces la gente no sabe lo que quiere hasta que se lo enseñas.\" *Steve Jobs*"
   ]
  },
  {
   "cell_type": "markdown",
   "metadata": {
    "slideshow": {
     "slide_type": "slide"
    }
   },
   "source": [
    "### Ingeniería de requisitos\n",
    "<img src=\"./img/req.png\">"
   ]
  },
  {
   "cell_type": "markdown",
   "metadata": {
    "slideshow": {
     "slide_type": "slide"
    }
   },
   "source": [
    "**Extracción.-**\n",
    "\n",
    "Set de actividades, donde la comunicación es tan importante como el análisis y la calidad del sistema se refiere a que encaje con el propósito del proyecto, para esto se realizan las siguientes preguntas:"
   ]
  },
  {
   "cell_type": "markdown",
   "metadata": {
    "slideshow": {
     "slide_type": "slide"
    }
   },
   "source": [
    "* De donde vienen los requerimientos ?\n",
    "\n",
    "    * *El dominio de la aplicación es el Laboratorio de Ing. Civil.*\n",
    "    * *Stakeholders o Programas dentro del laboratorio.*\n",
    "    * *Documentación esencial, libros, reglamentos, experiencia.*\n",
    "    \n",
    "    \n",
    "* Que tiene que hacer el sistema ?\n",
    "\n",
    "    * *Sistematizar la información del Laboratorio generando una base de datos que permita el control interno para un manejo óptimo de los procesos.*\n",
    "    \n",
    "    \n",
    "* Que nos debe de entregar el sistema ?\n",
    "\n",
    "    * *Resultados y gráficas en tiempo real para el control Académico.*\n",
    "    * *Estadísticas para el mantenimiento eficaz del Laboratorio.* \n",
    "    * *Certificación para Servicios a Terceros y Tesistas.*"
   ]
  },
  {
   "cell_type": "markdown",
   "metadata": {
    "slideshow": {
     "slide_type": "slide"
    }
   },
   "source": [
    "* Que características tiene que tener el sistema ?\n",
    "\n",
    "    * *Acceso limitado a diferentes capas del sistema, según los requerimientos de cada área.*\n",
    "    \n",
    "    \n",
    "* Como y donde debería de usarse el sistema ?\n",
    "\n",
    "    * *Acceso desde cualquier dispositivo que tenga una conexión a internet.*\n",
    "    * *Desde cualquier lugar o región del mundo.*\n",
    "    \n",
    "    \n",
    "* Que necesidades reales es posible resolver ?\n",
    "\n",
    "    * *Administración segura y confiable de una base de datos solida generada por la interacción del usuario en tiempo real.*\n",
    "    * *Automatizar los Servicios a Terceros.*\n",
    "    * *Certificar el uso de los equipos por tesistas.*\n",
    "    * *Tener un control académico del uso del material del laboratorio.*"
   ]
  },
  {
   "cell_type": "markdown",
   "metadata": {
    "slideshow": {
     "slide_type": "slide"
    }
   },
   "source": [
    "**Analisis.-**\n",
    "\n",
    "Estudio y entendimiento profundo de los requerimientos, no solo por áreas si no como un sistema en general."
   ]
  },
  {
   "cell_type": "markdown",
   "metadata": {
    "slideshow": {
     "slide_type": "slide"
    }
   },
   "source": [
    "* Verificación\n",
    "\n",
    " * Verificar la integridad de los requerimientos.\n",
    " * Verificar las piezas faltantes.\n",
    " * Verificar los requerimientos irrelevantes.\n",
    " * Verificar la consistencia o ambigüedad de los requerimientos.\n",
    " \n",
    " \n",
    "* Validación\n",
    "\n",
    " * La parte interesada valida el sistema que mejor se acomode a sus necesidades.\n",
    " * Validar los requerimientos sin usar demasiados tecnicismos.\n",
    " * Interactuar con el prototipo para validar.\n",
    " \n",
    " \n",
    "* Riesgo\n",
    "\n",
    " * Identificar y analizar los riesgos principales relacionados al desarrollo del producto y plantear soluciones, para no estancarse."
   ]
  },
  {
   "cell_type": "markdown",
   "metadata": {
    "slideshow": {
     "slide_type": "slide"
    }
   },
   "source": [
    "**Especificacion.-**\n",
    "\n",
    "Se utilizara el método MoSCoW, ya que es mucho más fácil para las partes interesadas calificar los requisitos como Must, Should, Could or Would. Teniendo en cuenta el tiempo, dinero y recursos.\n",
    "\n",
    "\n",
    "* Must – Obligatorio\n",
    "* Should – De alta prioridad\n",
    "* Could – Preferido pero no necesario\n",
    "* Would – Puede ser pospuesto y sugerido para futura ejecución"
   ]
  },
  {
   "cell_type": "markdown",
   "metadata": {
    "slideshow": {
     "slide_type": "slide"
    }
   },
   "source": [
    "**Validación.-**\n",
    "\n",
    "Para llevar a cabo esto, se suele realizar comprobando que el modelo obtenido responde de la misma forma deseada que la que el cliente pide por un lado. La validación de los requisitos, obviamente tiene como objetivo comprobar que estos son correctos. Los parámetros a validar en los requisitos son:\n",
    "\n",
    "* Validez – No basta con preguntar a un usuario, todos los potenciales usuarios pueden tener puntos de vista distintos y necesitar otros requisitos.\n",
    "\n",
    "* Consistencia – No debe haber contradicciones entre unos requisitos y otros.\n",
    "\n",
    "* Completitud – Deben estar todos los requisitos. Esto es imposible en un desarrollo iterativo, pero, al menos, deben estar disponibles todos los requisitos de la iteración en curso.\n",
    "\n",
    "* Realismo – Se pueden implementar con la tecnología actual.\n",
    "\n",
    "* Verificabilidad – Tiene que existir alguna forma de comprobar que cada requisito se cumple."
   ]
  },
  {
   "cell_type": "markdown",
   "metadata": {
    "slideshow": {
     "slide_type": "slide"
    }
   },
   "source": [
    "**Gestión.-**\n",
    "\n",
    "Gestión de cambios es un proceso formal para identificar, evaluar, trazar y reportar cambios propuestos y aprobados a la especificación del producto. Como el proyecto va evolucionando, los requerimientos pueden cambiar o expandirse para ajustar algunas modificaciones en el alcance o diseño del proyecto."
   ]
  },
  {
   "cell_type": "markdown",
   "metadata": {
    "slideshow": {
     "slide_type": "slide"
    }
   },
   "source": [
    "* Funcionales\n",
    "\n",
    " Características y restricciones sobre la funcionalidad del software.\n",
    " \n",
    " * *Actualización y almacenamiento de datos constante*\n",
    " * *Generación de resultados y gráficos.*\n",
    " * *Estadísticas generadas conforme se ingresen nuevos datos.*\n",
    " \n",
    "* No funcionales\n",
    "\n",
    " Propiedades o cualidades que el producto debe tener.\n",
    " \n",
    " * *Cualidad de almacenar grandes volúmenes de datos menores a 30terabits.*\n",
    " * *Seguridad en la aplicación con procedo de encriptado.*\n",
    " * *Acceso restringido según la función del Actor*\n",
    " * *Copia de seguridad blindada y albergada en la nube.*\n",
    " * *Actividad constante, fluida y rápida de los servicios.*  "
   ]
  },
  {
   "cell_type": "markdown",
   "metadata": {
    "slideshow": {
     "slide_type": "slide"
    }
   },
   "source": [
    "## Modelo de la aplicación"
   ]
  },
  {
   "cell_type": "markdown",
   "metadata": {
    "slideshow": {
     "slide_type": "slide"
    }
   },
   "source": [
    "### 1. Modelo en cascada ( Warterfall ).\n",
    "### 2. Modelo de prototipos.\n",
    "### 3. Modelo en espiral.\n",
    "### 4. Modelo RAD ( Desarrollo de Aplicaciones Rápidas )\n",
    "### 5. RUP ( Proceso Unificado Rasional )\n",
    "### 6. Agile"
   ]
  },
  {
   "cell_type": "markdown",
   "metadata": {
    "slideshow": {
     "slide_type": "slide"
    }
   },
   "source": [
    "## Como escojer el Modelo ?\n",
    "\n",
    "* Que nivel de entendimiento tenemos con los requerimientos ?\n",
    "\n",
    "    * ***La mayoría de los involucrados tiene estudios de Pre Grado en Ing Civil y conocen los procesos directa o indirectamente.***\n",
    "    * ***Se tiene experiencia en el desarrollo de Aplicaciones desde la parte del Frontend como del Backend.***\n",
    "    * ***Experiencia en el Área de Mantenimiento de Estructuras de parte del desarrollador que mostrara una idea clara del propósito del proyecto.***\n",
    "    \n",
    "    \n",
    "* Estaremos en la plena confianza de recolectar todos los requerimientos ?\n",
    "\n",
    "    * ***Como analista se recolectará y entenderá de una manera avanzada todos los requerimientos de una manera que no genere conflicto entre las partes interesadas.***\n",
    "    * ***Se realizaran entrevistas previamente agendadas para extraer información detallada del proceso y retroalimentación individual.***\n",
    "    * ***Se realizaran breves encuestas via mail o grupales, para buscar la integración del sistema como un todo.***\n",
    "    * ***Reuniones para hacer un enfoque general para dar una lluvia de ideas y brindar una síntesis del proyecto y retroalimentación colectiva.***  "
   ]
  },
  {
   "cell_type": "markdown",
   "metadata": {
    "slideshow": {
     "slide_type": "slide"
    }
   },
   "source": [
    "* Cuanto tiempo se tendrá para ejecutar el proyecto ?\n",
    "\n",
    "    * ***Un periodo prudencial para las diferentes partes del proyecto es esencial, debido a que se debe tener en cuenta imprevistos, características nuevas que puedan surgir durante el desarrollo del proyecto.***\n",
    "    * ***Diseño ( 2 meses )***\n",
    "    * ***Fronted ( 1 mes )***\n",
    "    * ***Backend ( 4 meses )***\n",
    "    * ***Estadísticas ( 3 meses )***\n",
    "    \n",
    "\n",
    "* Se dará mantenimiento al proyecto ?\n",
    "\n",
    "    * ***Se tendrá un periodo de mantenimiento de dos meses para corregir cualquier tipo de bugs y verificar si el sistema esta cumpliendo con los requerimientos y el propósito del proyecto.***\n",
    "    * ***Durante ese periodo se realizara la debida documentación de la aplicación.***"
   ]
  },
  {
   "cell_type": "markdown",
   "metadata": {
    "slideshow": {
     "slide_type": "slide"
    }
   },
   "source": [
    "* Cual es el nivel de riesgo del proyecto ?\n",
    "\n",
    "    * ***El nivel de riesgo es alto debido a los diferentes procesos que se llevaran acabo.***\n",
    "    * ***La seguridad de la Pagina Web debe ser una de nuestras prioridades, debido a que parte de la información debe ser confidencial.***\n",
    "    * ***La perdida o manipulación indiscriminada de base la base de datos.***\n",
    "\n",
    "* Conosemos exactamente las tecnologías involucradas ?\n",
    "\n",
    "    * ***Sistema operativo Linux Distro Ubuntu***\n",
    "    * ***Editor de código fuente VS Code***\n",
    "    * ***Lenguaje de programacion Python para backend y para datascience ejecutado por la plataforma Anaconda***\n",
    "    * ***Formula LAMP, programa que sirve para la combinación de tecnologías, es usada principalmente para definir la infraestructura de un servidor web***\n",
    "    * ***Libra para digitalizar documentos de solicitudes y avances***\n",
    "    * ***Gimp programa para el diseño gráfico Web***\n",
    "    * ***Sistema de control de versiones GIT***"
   ]
  },
  {
   "cell_type": "markdown",
   "metadata": {
    "slideshow": {
     "slide_type": "slide"
    }
   },
   "source": [
    "* Cual sera la relación con el cliente ?\n",
    "\n",
    "    * ***La interacción con el personal involucrado del laboratorio sera directa o vía mail, siguiendo protocolos y jerarquía estipulada de respeto entre las partes.***\n",
    "    \n",
    "* Conosemos a las personas involucradas ?\n",
    "\n",
    "    * ***La mayoría tenemos una identidad y una formación en común que nos integra como una unidad de trabajo, colaboración y apoyo mutuo.***\n",
    "    * ***Profesores, alumnos, personal de laborario y administración.***\n",
    "    \n",
    "* Se necesitará cierto nivel maestría o dominio en algún área ?\n",
    "\n",
    " * ***En la fase del Backend, en lo que respecta a seguridad en la aplicación, encriptado o cifrado de información para conseguir un sistema cerrado y confiable se necesitara un persona con un conocimiento profundo en seguridad informática.***"
   ]
  },
  {
   "cell_type": "markdown",
   "metadata": {
    "slideshow": {
     "slide_type": "slide"
    }
   },
   "source": [
    "## ***Gracias a las preguntas previamente enunciadas y para escoger un modelo adecuado para el propósito del Proyecto de Sistematización y Pagina Web del Laboratorio de Ing Civil lo mejor es un modelamiento en conjunto de:***"
   ]
  },
  {
   "cell_type": "markdown",
   "metadata": {
    "slideshow": {
     "slide_type": "slide"
    }
   },
   "source": [
    "### 1. Modelo de Prototipos.\n",
    "<img src=\"./img/Prototipo.png\">"
   ]
  },
  {
   "cell_type": "markdown",
   "metadata": {
    "slideshow": {
     "slide_type": "slide"
    }
   },
   "source": [
    "### 2. Modelo de Proceso Unificado Racional ( RUP ).\n",
    "<img src=\"./img/Rup.jpg\">"
   ]
  },
  {
   "cell_type": "markdown",
   "metadata": {
    "slideshow": {
     "slide_type": "slide"
    }
   },
   "source": [
    "### 3. Modelo Agile.\n",
    "<img src=\"./img/Agile.png\">"
   ]
  },
  {
   "cell_type": "markdown",
   "metadata": {
    "slideshow": {
     "slide_type": "slide"
    }
   },
   "source": [
    "# Capitulo III: INGENIERÍA DEL PROYECTO\n",
    "---"
   ]
  },
  {
   "cell_type": "markdown",
   "metadata": {
    "slideshow": {
     "slide_type": "slide"
    }
   },
   "source": [
    "## Objetivos del Proyecto\n",
    "\n",
    "### Objetivos primarios\n",
    "\n",
    "   * Tener un sistema para los diferentes ensayos del laboratorio.\n",
    "   * Tener información segura y confiable.\n",
    "   \n",
    "### Objetivos secundarios\n",
    "\n",
    "   * Pagina Web propia para el LAB EPIC.\n",
    "   * Tener un servicio en la Pagina Web para el sector ACADEMICO y SERVICIOS A TERCEROS\n",
    "   * Tener una base de datos  de los diferentes ensayos que se realizan.\n",
    "   * Brindar de manera digital a nuestros clientes los resultados de los diferentes ensayos."
   ]
  },
  {
   "cell_type": "markdown",
   "metadata": {
    "slideshow": {
     "slide_type": "slide"
    }
   },
   "source": [
    "### Topología en el sistema\n",
    "\n",
    "* Esta red será la Internet por las siguientes razones:\n",
    "\n",
    "    * La no necesidad de tender una red en el negocio y no depender de un administrador de esta.\n",
    "    * Por el fácil acceso al sistema por la futura Pagina Web del negocio.\n",
    "    * La utilización de un lenguaje de programación freeware para Internet.\n",
    "    * Usuarios siempre beneficiados por la información de los ensayos realizados en el laboratorio.\n",
    "    * Una ventana abierta para que nuestros clientes estén enterados de nuevos equipos o técnicas adquiridas por el laboratorio.\n",
    "    * Información ordenada.\n",
    "    \n",
    "### Modelamiento.\n",
    "\n",
    "| Partes | Fases |\n",
    "| :---| :---|\n",
    "| 1. Parte | DESIGN |\n",
    "| 2. Parte | FRONTEND |\n",
    "| 3. Parte | BACKEND |\n",
    "| 4. Parte | DATASCIENCE|"
   ]
  },
  {
   "cell_type": "markdown",
   "metadata": {
    "slideshow": {
     "slide_type": "slide"
    }
   },
   "source": [
    "**2. FRONTEND .-** \n",
    "\n",
    "Frontend es la parte de un programa o dispositivo a la que un usuario puede acceder directamente. Son todas las tecnologías de diseño y desarrollo web que corren en el navegador y que se encargan de la interactividad con los usuarios.\n",
    "\n",
    "<img src=\"./img/image02.jpg\">"
   ]
  },
  {
   "cell_type": "markdown",
   "metadata": {
    "slideshow": {
     "slide_type": "slide"
    }
   },
   "source": [
    "**3. BACKEND .-**\n",
    "\n",
    "Backend es la capa de acceso a datos de un software o cualquier dispositivo, que no es directamente accesible por los usuarios, además contiene la lógica de la aplicación que maneja dichos datos. \n",
    "\n",
    "<img src=\"./img/lamp-logos.png\">"
   ]
  },
  {
   "cell_type": "markdown",
   "metadata": {
    "slideshow": {
     "slide_type": "slide"
    }
   },
   "source": [
    "**4. DATASCIENCE .-**\n",
    "\n",
    "Un concepto para unificar estadísticas, análisis de datos, aprendizaje automático y sus métodos relacionados para comprender y analizar los fenómenos reales\", empleando técnicas y teorías extraídas de muchos campos dentro del contexto de las matemáticas, la estadística, la ciencia de la información y la informática.\n",
    "\n",
    "| * | Fases |\n",
    "| :--- | :--- |\n",
    "| Primera Fase | **Preparacion** |\n",
    "| Segunda Fase | **Construccion** |\n",
    "| Tercera Fase | **Refinamiento** |"
   ]
  },
  {
   "cell_type": "markdown",
   "metadata": {
    "slideshow": {
     "slide_type": "slide"
    }
   },
   "source": [
    "# CAPITULO  IV: PROPUESTA DE MÓDULOS\n",
    "---"
   ]
  },
  {
   "cell_type": "markdown",
   "metadata": {
    "slideshow": {
     "slide_type": "slide"
    }
   },
   "source": [
    "## Descripción\n",
    "\n",
    "* Se tendrán múltiples tipos de usuarios dentro la aplicación Web: \n",
    "\n",
    "    * Alumnos\n",
    "    * Tesistas\n",
    "    * Profesores \n",
    "    * Técnicos\n",
    "    * Administrativos\n",
    "    * Clientes Externos\n",
    "    \n",
    "<img src=\"./img/Actores.png\">"
   ]
  },
  {
   "cell_type": "markdown",
   "metadata": {
    "slideshow": {
     "slide_type": "slide"
    }
   },
   "source": [
    "* La pagina se dividirá en sectores a los cuales se accederá con diferentes permisos de usuarios.\n",
    "\n",
    "    * Programas\n",
    "    * Servicios a terceros\n",
    "    * Sector académico\n",
    "    * Sector estadístico\n",
    "    * Sector informativo\n",
    "    \n",
    "<img src=\"./img/Aplicación Web.png\">"
   ]
  },
  {
   "cell_type": "markdown",
   "metadata": {
    "slideshow": {
     "slide_type": "slide"
    }
   },
   "source": [
    "* Los programas se dividirán en departamentos y estos a su vez tendrán sus respectivos ensayos ( Granulometría, Diseño de Mezclas, etc), que serán desarrollados bajo la supervisión y trabajo en conjunto con los diferentes responsables de área para automatizar y uniformizar la generación de resultados:\n",
    "\n",
    "    * Suelos\n",
    "    * Concreto\n",
    "    * Pavimentos\n",
    "    * Hidráulica\n",
    "    \n",
    "<img src=\"./img/Programas.png\">"
   ]
  },
  {
   "cell_type": "markdown",
   "metadata": {
    "slideshow": {
     "slide_type": "slide"
    }
   },
   "source": [
    "* Los servicios a terceros tendrán un sistema aparte que permitirá la generación de permisos para la área técnica, que brindara el área contable y todo estará supervisado y autorizado por el coordinador.\n",
    "\n",
    "<img src=\"./img/Servicios a Terceros.png\">"
   ]
  },
  {
   "cell_type": "markdown",
   "metadata": {
    "slideshow": {
     "slide_type": "slide"
    }
   },
   "source": [
    "* El sector académico contara con dos partes:\n",
    "\n",
    "    * Área de pre-grado\n",
    "    * Área de tesistas o profesional\n",
    "    \n",
    "* El área de pre-grado contara con los respectivos programas de practicas que serán implementados con fotografías y guías practicas, que facilitaran el estudio a los alumnos.\n",
    "\n",
    "* El área de tesistas estará conformado por el \n",
    "\n",
    "    * Archivo de tesis\n",
    "    * Formatos ( Tesista y donación )\n",
    "    * Normativa y reglamentos."
   ]
  },
  {
   "cell_type": "markdown",
   "metadata": {
    "slideshow": {
     "slide_type": "slide"
    }
   },
   "source": [
    "<img src=\"./img/Sector Academico.png\">"
   ]
  },
  {
   "cell_type": "markdown",
   "metadata": {
    "slideshow": {
     "slide_type": "slide"
    }
   },
   "source": [
    "*  El Sector de certificados será la base de datos donde se almacenará detalladamente cada proceso del laboratorio, sobre todo el uso de equipos, generando informacion en tiempo real que se podra imprimir en su debido formato.\n",
    "\n",
    "<img src=\"./img/Sector de Certificados.png\">"
   ]
  },
  {
   "cell_type": "markdown",
   "metadata": {
    "slideshow": {
     "slide_type": "slide"
    }
   },
   "source": [
    "* El sector de estadísticas que será solo de acceso limitado al personal de coordinación y administración para facilitar el mantenimiento de estructuras, maquinas entre otros, y sobre todo para brindar una mejor atenciaon al cliente. Esta fase del proyecto se realizará conforme se concluya con la base y el funcionamiento correcto del proyecto.\n",
    "\n",
    "<img src=\"./img/Sector Estadístico.png\">"
   ]
  },
  {
   "cell_type": "markdown",
   "metadata": {
    "slideshow": {
     "slide_type": "slide"
    }
   },
   "source": [
    "* El sector informativo, donde se colocarán informaciones relevantes sobre las instalaciones del laboratorio.\n",
    "\n",
    "<img src=\"./img/Sector Informativo.png\">"
   ]
  },
  {
   "cell_type": "markdown",
   "metadata": {
    "slideshow": {
     "slide_type": "slide"
    }
   },
   "source": [
    "# CAPITULO V: RECURSOS\n",
    "---"
   ]
  },
  {
   "cell_type": "markdown",
   "metadata": {
    "slideshow": {
     "slide_type": "slide"
    }
   },
   "source": [
    "Requerimientos de Hardware:\n",
    "\n",
    "* Una computadora Intel-Core I3 con 4 nucleos, 4 subprocesos y 8 GB de RAM o su similar en otras marcas.\n",
    "* Dos monitores LCD TV HD de 20\"\n",
    "* Una impresora\n",
    "* Un servidor\n",
    "\n",
    "Requerimiento de Software:\n",
    "\n",
    "| Programa | Empresa | Versión | \n",
    "| :---| :---| :---|\n",
    "| Linux Distro Ubuntu | GENERAL PUBLIC LICENSE | 18.10 |\n",
    "| VS Code | GENERAL PUBLIC LICENSE | Ultima |\n",
    "| Anaconda | GENERAL PUBLIC LICENSE | Ultima |\n",
    "| LAMP | GENERAL PUBLIC LICENSE | Ultima |\n",
    "| LibreOffice | GENERAL PUBLIC LICENSE | Ultima |\n",
    "| Gimp | GENERAL PUBLIC LICENSE | Ultima |\n",
    "| GIT | GENERAL PUBLIC LICENSE | Ultima |"
   ]
  },
  {
   "cell_type": "markdown",
   "metadata": {
    "slideshow": {
     "slide_type": "slide"
    }
   },
   "source": [
    "<img src=\"./img/Ubuntu.jpg\">"
   ]
  },
  {
   "cell_type": "markdown",
   "metadata": {
    "slideshow": {
     "slide_type": "slide"
    }
   },
   "source": [
    "<table><tr><td><img src=\"./img/vscode.jpeg\" width='500px' height=\"400px\"></td><td><img src=\"./img/anaconda.png\" width='500px' height=\"400px\"></td></tr></table>"
   ]
  },
  {
   "cell_type": "markdown",
   "metadata": {
    "slideshow": {
     "slide_type": "slide"
    }
   },
   "source": [
    "<table><tr><td><img src=\"./img/libre.jpeg\" width='500px' height=\"400px\"></td><td><img src=\"./img/wine.png\" width='500px' height=\"400px\"></td></tr></table>"
   ]
  },
  {
   "cell_type": "markdown",
   "metadata": {
    "slideshow": {
     "slide_type": "slide"
    }
   },
   "source": [
    "<img src=\"./img/vs.jpeg\">\n",
    "<img src=\"./img/git.png\">"
   ]
  },
  {
   "cell_type": "markdown",
   "metadata": {
    "slideshow": {
     "slide_type": "slide"
    }
   },
   "source": [
    "# Muchisimas Gracias"
   ]
  },
  {
   "cell_type": "markdown",
   "metadata": {
    "slideshow": {
     "slide_type": "slide"
    }
   },
   "source": [
    "<img src=\"./img/404.png\">"
   ]
  }
 ],
 "metadata": {
  "kernelspec": {
   "display_name": "Python 3",
   "language": "python",
   "name": "python3"
  },
  "language_info": {
   "codemirror_mode": {
    "name": "ipython",
    "version": 3
   },
   "file_extension": ".py",
   "mimetype": "text/x-python",
   "name": "python",
   "nbconvert_exporter": "python",
   "pygments_lexer": "ipython3",
   "version": "3.7.0"
  }
 },
 "nbformat": 4,
 "nbformat_minor": 2
}
