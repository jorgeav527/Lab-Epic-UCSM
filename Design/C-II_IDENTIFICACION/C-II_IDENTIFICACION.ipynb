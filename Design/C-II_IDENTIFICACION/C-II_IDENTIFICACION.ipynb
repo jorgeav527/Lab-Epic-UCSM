{
 "cells": [
  {
   "cell_type": "markdown",
   "metadata": {},
   "source": [
    "# CAPITULO II: IDENTIFICACION\n",
    "---"
   ]
  },
  {
   "cell_type": "markdown",
   "metadata": {},
   "source": [
    "## 2.1 CALIDAD EN LA APLICACIÓN\n",
    "\n",
    "La calidad de la aplicación esta siempre en función del propósito y encontrar este propósito es difícil por la complejidad o la vaga idea que se tenga al montar una aplicación."
   ]
  },
  {
   "cell_type": "markdown",
   "metadata": {},
   "source": [
    "Continuar escribiendo\n",
    "* Los requerimientos siempre cambian o tienden a evolucionar con el tiempo.\n",
    "\n",
    "* Los múltiples requerimientos debido a diversos involucrados podrían hacer:\n",
    "    * Perder una vision general del propósito lo que conllevaría a perder funcionalidad en la aplicación.\n",
    "    * Recolectar requerimientos irrelevantes podrían hacer crear funcionalidades innecesarias lo que conllevaría a construir una aplicación con características sobrantes, o en el peor de los casos a desarrollar un producto incompleto.\n",
    "\n",
    "\n",
    "* Recolectar requerimientos adecuados, precisos, completos y pertinentes que identifiquen el propósito de la aplicación o sistema es una tarea ardua."
   ]
  },
  {
   "cell_type": "markdown",
   "metadata": {},
   "source": [
    ">### \"Muchas veces la gente no sabe lo que quiere hasta que se lo enseñas.\" *Steve Jobs*"
   ]
  },
  {
   "cell_type": "markdown",
   "metadata": {},
   "source": [
    "## 2.2 Ingeniería de requisitos\n",
    "\n",
    "La primera fase para la construcción, diseño e implementación de un sistema es el dialogo con la parte interesada (stakeholders) o el cliente para entender el tipo de sistema que se requiere, para esto realizaremos 5 etapas iterativas (proceso de ingeniería de requisitos), fundamentales para tener un propósito en común.\n",
    "\n",
    "\n",
    "* Extracción\n",
    "\n",
    " Recolección de requerimientos de la parte interesada y de otras fuentes como libros, revistas, paginas similares, normas, etc.\n",
    " \n",
    "* Análisis\n",
    "\n",
    " Estudio y entendimiento profundo de los requerimientos, no solo por áreas si no como un sistema en general.\n",
    " \n",
    "* Especificación\n",
    "\n",
    " Los requerimientos tienen que estar organizados para poderlos compartir, dividir y organizar.\n",
    " \n",
    "* Validación\n",
    "\n",
    " Se tiene que verificar que los requerimientos estén completos, consistentes y no redundantes.\n",
    " \n",
    "* Gestión\n",
    "\n",
    " Se tiene que tener en cuenta los cambios durante la plena construcción del proyecto."
   ]
  },
  {
   "cell_type": "markdown",
   "metadata": {},
   "source": [
    "**Extracción.-**\n",
    "\n",
    "Set de actividades, donde la comunicación es tan importante como el análisis y la calidad del sistema se refiere a que encaje con el propósito del proyecto, para esto se realizan las siguientes preguntas:\n",
    "\n",
    "* De donde vienen los requerimientos ?\n",
    "    * *El dominio de la aplicación es el Laboratorio de Ing. Civil.*\n",
    "    * *Stakeholders o Programas dentro del laboratorio.*\n",
    "    * *Documentación esencial, libros, reglamentos, experiencia.*\n",
    "    \n",
    "    \n",
    "* Que tiene que hacer el sistema ?\n",
    "    * *Sistematizar la información del Laboratorio generando una base de datos que permita el control interno para un manejo óptimo de los procesos.*\n",
    "    \n",
    "    \n",
    "* Que nos debe de entregar el sistema ?\n",
    "    * *Resultados y gráficas en tiempo real para el control Académico.*\n",
    "    * *Estadísticas para el mantenimiento eficaz del Laboratorio.* \n",
    "    * *Certificación para Servicios a Terceros y Tesistas.*\n",
    "    \n",
    "        \n",
    "* Que características tiene que tener el sistema ?\n",
    "    * *Acceso limitado a diferentes capas del sistema, según los requerimientos de cada área.*\n",
    "    \n",
    "    \n",
    "* Como y donde debería de usarse el sistema ?\n",
    "    * *Acceso desde cualquier dispositivo que tenga una conexión a internet.*\n",
    "    * *Desde cualquier lugar o región del mundo.*\n",
    "    \n",
    "    \n",
    "* Que necesidades reales es posible resolver ?\n",
    "    * *Administración segura y confiable de una base de datos solida generada por la interacción del usuario en tiempo real.*\n",
    "    * *Automatizar los Servicios a Terceros.*\n",
    "    * *Certificar el uso de los equipos por tesistas.*\n",
    "    * *Tener un control académico del uso del material del laboratorio.*"
   ]
  },
  {
   "cell_type": "markdown",
   "metadata": {},
   "source": [
    "**Analisis.-**\n",
    "\n",
    "* Verificación\n",
    " * Verificar la integridad de los requerimientos.\n",
    " * Verificar las piezas faltantes.\n",
    " * Verificar los requerimientos irrelevantes.\n",
    " * Verificar la consistencia o ambigüedad de los requerimientos.\n",
    " \n",
    " \n",
    "* Validación\n",
    " * La parte interesada valida el sistema que mejor se acomode a sus necesidades.\n",
    " * Validar los requerimientos sin usar demasiados tecnicismos.\n",
    " * Interactuar con el prototipo para validar.\n",
    " \n",
    " \n",
    "* Riesgo\n",
    " * Identificar y analizar los riesgos principales relacionados al desarrollo del producto y plantear soluciones, para no estancarse.\n"
   ]
  },
  {
   "cell_type": "markdown",
   "metadata": {},
   "source": [
    "**Especificacion.-**\n",
    "\n",
    "Una de las mayores diferencias entre las empresas que prosperan y las que fracasan es la capacidad de priorizar de manera efectiva, pero la priorización de los requisitos de software nunca es fácil. A menudo implica decisiones dolorosas y pocas compensaciones, y para las empresas en etapa inicial y de expansión, existe la presión adicional de tratar de lograr mucho con tiempo y recursos limitados. Para lograr crecimiento, un equipo debe estar dirigido únicamente a las cosas que realmente importan y que van a tener un impacto máximo."
   ]
  },
  {
   "cell_type": "markdown",
   "metadata": {},
   "source": [
    "Se utilizara el método MoSCoW, ya que es mucho más fácil para las partes interesadas calificar los requisitos como Must, Should, Could or Would. Teniendo en cuenta el tiempo, dinero y recursos.\n",
    "\n",
    "* Must – Obligatorio\n",
    "* Should – De alta prioridad\n",
    "* Could – Preferido pero no necesario\n",
    "* Would – Puede ser pospuesto y sugerido para futura ejecución"
   ]
  },
  {
   "cell_type": "markdown",
   "metadata": {},
   "source": [
    "**Validación.-**\n",
    "\n",
    "Para llevar a cabo esto, se suele realizar comprobando que el modelo obtenido responde de la misma forma deseada que la que el cliente pide por un lado. La validación de los requisitos, obviamente tiene como objetivo comprobar que estos son correctos. Los parámetros a validar en los requisitos son:"
   ]
  },
  {
   "cell_type": "markdown",
   "metadata": {},
   "source": [
    "* Validez – No basta con preguntar a un usuario, todos los potenciales usuarios pueden tener puntos de vista distintos y necesitar otros requisitos.\n",
    "\n",
    "\n",
    "* Consistencia – No debe haber contradicciones entre unos requisitos y otros.\n",
    "\n",
    "\n",
    "* Completitud – Deben estar todos los requisitos. Esto es imposible en un desarrollo iterativo, pero, al menos, deben estar disponibles todos los requisitos de la iteración en curso.\n",
    "\n",
    "\n",
    "* Realismo – Se pueden implementar con la tecnología actual.\n",
    "\n",
    "\n",
    "* Verificabilidad – Tiene que existir alguna forma de comprobar que cada requisito se cumple."
   ]
  },
  {
   "cell_type": "markdown",
   "metadata": {},
   "source": [
    "**Gestión.-**\n",
    "\n",
    "Gestión de cambios es un proceso formal para identificar, evaluar, trazar y reportar cambios propuestos y aprobados a la especificación del producto. Como el proyecto va evolucionando, los requerimientos pueden cambiar o expandirse para ajustar algunas modificaciones en el alcance o diseño del proyecto.\n",
    "\n",
    "El modelo de proyecto se define según sus requerimientos y sus funciones:"
   ]
  },
  {
   "cell_type": "markdown",
   "metadata": {},
   "source": [
    "* Funcionales\n",
    "\n",
    " Características y restricciones sobre la funcionalidad del software.\n",
    " \n",
    " * *Actualización y almacenamiento de datos constante*\n",
    " * *Generación de resultados y gráficos.*\n",
    " * *Estadísticas generadas conforme se ingresen nuevos datos.*"
   ]
  },
  {
   "cell_type": "markdown",
   "metadata": {},
   "source": [
    "* No funcionales\n",
    "\n",
    " Propiedades o cualidades que el producto debe tener.\n",
    " \n",
    " * *Cualidad de almacenar grandes volúmenes de datos menores a 30terabits.*\n",
    " * *Seguridad en la aplicación con procedo de encriptado.*\n",
    " * *Acceso restringido según la función del Actor*\n",
    " * *Copia de seguridad blindada y albergada en la nube.*\n",
    " * *Actividad constante, fluida y rápida de los servicios.*  "
   ]
  },
  {
   "cell_type": "markdown",
   "metadata": {},
   "source": [
    "## 2.3 Modelo de la aplicación"
   ]
  },
  {
   "cell_type": "markdown",
   "metadata": {},
   "source": [
    "Exciten muchos tipos de modelos para software y estos ofrecen un marco de trabajo y se usa para controlar el proceso de desarrollo de sistemas de información:"
   ]
  },
  {
   "cell_type": "markdown",
   "metadata": {},
   "source": [
    "1.- Modelo en cascada ( Warterfall ).\n",
    "\n",
    "   Se ordenan rigurosamente las etapas del desarrollo del software, de esto se obtiene que el inicio de una etapa de desarrollo deba de esperar el fin de la etapa anterior."
   ]
  },
  {
   "cell_type": "markdown",
   "metadata": {},
   "source": [
    "<img src=\"./img/Cascada.png\">"
   ]
  },
  {
   "cell_type": "markdown",
   "metadata": {},
   "source": [
    "2.- Modelo de prototipos.\n",
    "\n",
    "Modelo evolutivo, en el cual el proyecto empieza como un borrador y con utilización escasa de recursos. Este modelo se centra en obtener criticas y retroalimentación."
   ]
  },
  {
   "cell_type": "markdown",
   "metadata": {},
   "source": [
    "<img src=\"./img/Prototipo.png\">"
   ]
  },
  {
   "cell_type": "markdown",
   "metadata": {},
   "source": [
    "3.- Modelo en espiral.\n",
    "\n",
    "En cada iteración en este modelo, se deberán de tomar en cuenta los objetivos, las alternativas que se deberán de tomar de acuerdo a las características, estas son experiencia personal, requisitos a cumplir, las formas de gestión del sistema, entre otros."
   ]
  },
  {
   "cell_type": "markdown",
   "metadata": {},
   "source": [
    "<img src=\"./img/Espiral.png\">"
   ]
  },
  {
   "cell_type": "markdown",
   "metadata": {},
   "source": [
    "4.- Modelo RAD ( Desarrollo de Aplicaciones Rápidas )\n",
    "\n",
    "Construcción rápida de sistemas utilizables. Está compuesto por un grupo reducido de personas incluyendo desarrolladores y testers del sistema."
   ]
  },
  {
   "cell_type": "markdown",
   "metadata": {},
   "source": [
    "<img src=\"./img/modelo-rad.jpg\">"
   ]
  },
  {
   "cell_type": "markdown",
   "metadata": {},
   "source": [
    "5.- RUP ( Proceso Unificado Rasional )\n",
    "\n",
    "IBM desarrollo este modelo y es uno de los modelos más utilizado en el análisis, diseño e implementación en documentación. Un sistema orientado a objetos. Utiliza el sistema de modelado UML ( Lenguaje Unificado de Modelo )."
   ]
  },
  {
   "cell_type": "markdown",
   "metadata": {},
   "source": [
    "<img src=\"./img/Rup.jpg\">"
   ]
  },
  {
   "cell_type": "markdown",
   "metadata": {},
   "source": [
    "6.- Agile\n",
    "\n",
    "El desarrollo de software se divide en proyectos más pequeños, por lo que es ideal para los ciclos de lanzamiento corto y finitos, como los requeridos para las actualizaciones de un producto existente."
   ]
  },
  {
   "cell_type": "markdown",
   "metadata": {},
   "source": [
    "<img src=\"./img/Agile.png\">"
   ]
  },
  {
   "cell_type": "markdown",
   "metadata": {},
   "source": [
    "## Escojer el Modelo\n",
    "\n",
    "Tomando en cuenta el entendimiento de los requerimientos, tiempo de vida esperado para el proyecto, análisis de riesgo esperado dentro del periodo, calendario de tareas ( GANT de actividades ), la interacción con cliente y las personas involucradas en el proyecto. Trazaremos preguntas que nos ayuden a escoger el mejor modelo para la implementación de la aplicación ( Pagina Web del Laboratorio Ing. Civil )"
   ]
  },
  {
   "cell_type": "markdown",
   "metadata": {},
   "source": [
    "* Que nivel de entendimiento tenemos con los requerimientos ?\n",
    "\n",
    "    * ***La mayoría de los involucrados tiene estudios de Pre Grado en Ing Civil y conocen los procesos directa o indirectamente.***\n",
    "    * ***Se tiene experiencia en el desarrollo de Aplicaciones desde la parte del Frontend como del Backend.***\n",
    "    * ***Experiencia en el Área de Mantenimiento de Estructuras de parte del desarrollador que mostrara una idea clara del propósito del proyecto.***"
   ]
  },
  {
   "cell_type": "markdown",
   "metadata": {},
   "source": [
    "* Estaremos en la plena confianza de recolectar todos los requerimientos ?\n",
    "\n",
    "    * ***Como analista se recolectara y entenderá de una manera avanzada todos los requerimientos de una manera que no genere conflicto entre las partes interesadas.***\n",
    "    * ***Se realizaran entrevistas previamente agendadas para extraer información detallada del proceso y retroalimentación individual.***\n",
    "    * ***Se realizaran breves encuestas via mail o grupales, para buscar la integración del sistema como un todo.***\n",
    "    * ***Reuniones para hacer un enfoque general para dar una lluvia de ideas y brindar una síntesis del proyecto y retroalimentación colectiva.***  "
   ]
  },
  {
   "cell_type": "markdown",
   "metadata": {},
   "source": [
    "* Cuanto tiempo se tendrá para ejecutar el proyecto ?\n",
    "\n",
    "    * ***Un periodo prudencial para las diferentes partes del proyecto es esencial, debido a que se debe tener en cuenta imprevistos, características nuevas que puedan surgir durante el desarrollo del proyecto.***\n",
    "    * ***Diseño ( 2 meses )***\n",
    "    * ***Fronted ( 1 mes )***\n",
    "    * ***Backend ( 4 meses )***\n",
    "    * ***Estadísticas ( 3 meses )***"
   ]
  },
  {
   "cell_type": "markdown",
   "metadata": {},
   "source": [
    "* Se dará mantenimiento al proyecto ?\n",
    "\n",
    "    * ***Se tendrá un periodo de mantenimiento de dos meses para corregir cualquier tipo de bugs y verificar si el sistema esta cumpliendo con los requerimientos y el propósito del proyecto.***\n",
    "    * ***Durante ese periodo se realizara la debida documentación de la aplicación.***"
   ]
  },
  {
   "cell_type": "markdown",
   "metadata": {},
   "source": [
    "* Cual es el nivel de riesgo del proyecto ?\n",
    "\n",
    "    * ***El nivel de riesgo es alto debido a los diferentes procesos que se llevaran acabo.***\n",
    "    * ***La seguridad de la Pagina Web debe ser una de nuestras prioridades, debido a que parte de la información debe ser confidencial.***\n",
    "    * ***La perdida o manipulación indiscriminada de base la base de datos.***"
   ]
  },
  {
   "cell_type": "markdown",
   "metadata": {},
   "source": [
    "* Conosemos exactamente las tecnologías involucradas ?\n",
    "\n",
    "    * ***Sistema operativo Linux Distro Ubuntu***\n",
    "    * ***Editor de código fuente VS Code***\n",
    "    * ***Lenguaje de programacion Python para backend y para datascience ejecutado por la plataforma Anaconda***\n",
    "    * ***Formula LAMP, programa que sirve para la combinación de tecnologías, es usada principalmente para definir la infraestructura de un servidor web***\n",
    "    * ***Digitalizar documentos de solicitudes y avances***\n",
    "    * ***Gimp programa para el diseño gráfico Web***\n",
    "    * ***Sistema de control de versiones GIT***"
   ]
  },
  {
   "cell_type": "markdown",
   "metadata": {},
   "source": [
    "* Cual sera la relación con el cliente ?\n",
    "\n",
    "    * ***La interacción con el personal involucrado del laboratorio sera directa o vía mail, siguiendo protocolos y jerarquía estipulada de respeto entre las partes.***"
   ]
  },
  {
   "cell_type": "markdown",
   "metadata": {},
   "source": [
    "* Conosemos a las personas involucradas ?\n",
    "\n",
    "    * ***La mayoría tenemos una identidad y una formación en común que nos integra como una unidad de trabajo, colaboración y apoyo mutuo.***\n",
    "    * ***Profesores, alumnos, personal de laborario y administración.***"
   ]
  },
  {
   "cell_type": "markdown",
   "metadata": {},
   "source": [
    "* Se necesitará cierto nivel maestría o dominio en algún área ?\n",
    "\n",
    " * ***En la fase del Backend, en lo que respecta a seguridad en la aplicación, encriptado o cifrado de información para conseguir un sistema cerrado y confiable se necesitara un persona con un conocimiento profundo en seguridad informática.***"
   ]
  },
  {
   "cell_type": "markdown",
   "metadata": {},
   "source": [
    "***Gracias a las preguntas previamente enunciadas y para escoger un modelo adecuado para el propósito del Proyecto de Sistematización y Pagina Web del Laboratorio de Ing Civil lo mejor es un modelamiento en conjunto de:***\n",
    "\n",
    "1. Modelo de Prototipos.\n",
    "2. Modelo de Proceso Unificado Racional ( RUP ).\n",
    "3. Modelo Agile."
   ]
  },
  {
   "cell_type": "markdown",
   "metadata": {},
   "source": [
    "## Modelo de Prototipos\n",
    "\n",
    "* Por ser un sistema que va ir evolucionando con el tiempo.\n",
    "* Este modelo se centra en obtener criticas y retroalimentación."
   ]
  },
  {
   "cell_type": "markdown",
   "metadata": {},
   "source": [
    "## Modelo de Proceso Unificado Racional ( RUP )\n",
    "\n",
    "* Es un lenguaje gráfico para visualizar, especificar, construir y documentar un sistema de software o aplicacion.\n",
    "* Es uno de los modelos más utilizado en el análisis, diseño e implementación de la Aplicacion Web.\n",
    "* UML Sketching para comunicar ideas y para integrar los diferentes sistemas de la Pagina Web.\n",
    "* UML Blueprint informacion detallada de los diseños y decisiones para un crecimiento continuo y un mantenimiento sostenible."
   ]
  },
  {
   "cell_type": "markdown",
   "metadata": {},
   "source": [
    "## Modelo Agile\n",
    "\n",
    "* Dividiremos la aplicacion en proyectos más pequeños.\n",
    "* Es ideal para los ciclos de lanzamiento corto y finitos.\n",
    "* Continuas actualizaciones de un producto existente.\n",
    "* Constante iteración."
   ]
  },
  {
   "cell_type": "code",
   "execution_count": null,
   "metadata": {},
   "outputs": [],
   "source": []
  }
 ],
 "metadata": {
  "kernelspec": {
   "display_name": "Python 3",
   "language": "python",
   "name": "python3"
  },
  "language_info": {
   "codemirror_mode": {
    "name": "ipython",
    "version": 3
   },
   "file_extension": ".py",
   "mimetype": "text/x-python",
   "name": "python",
   "nbconvert_exporter": "python",
   "pygments_lexer": "ipython3",
   "version": "3.7.0"
  }
 },
 "nbformat": 4,
 "nbformat_minor": 2
}
