{
 "cells": [
  {
   "cell_type": "markdown",
   "metadata": {},
   "source": [
    "## What Requirements Questions Should I Ask?"
   ]
  },
  {
   "cell_type": "markdown",
   "metadata": {},
   "source": [
    "### How requirements questions\n",
    "\n",
    "* How will you use this feature?\n",
    "* How might we meet this business need?\n",
    "\n",
    "### Where requirements questions\n",
    "\n",
    "* Where does the process start?\n",
    "* Where would the user access this feature?\n",
    "* Where would the results be visible?\n",
    "\n",
    "### When requirements questions\n",
    "\n",
    "* When will this feature be used?\n",
    "* When will we be ready to start?\n",
    "\n",
    "### Who requirements questions\n",
    "\n",
    "* Who will use this feature?\n",
    "* Who will deliver the inputs for the feature?\n",
    "* Who will receive the outputs of the feature?\n",
    "* Who will learn about the results of someone using this feature?\n",
    "\n",
    "### What requirements questions\n",
    "\n",
    "* What do I know about this feature?\n",
    "* What does this feature need to do?\n",
    "* What is the end result of doing this?\n",
    "* What needs to be tracked?"
   ]
  },
  {
   "cell_type": "markdown",
   "metadata": {},
   "source": [
    "### Asking deeper questions\n",
    "\n",
    "* asking your interviewee something that will make them feel good\n",
    "* Who you are – as the business analyst, describe your role in the organisation and your role on the project.\n",
    "* Ask permission from them for you to ask them some questions about what they do.\n",
    "* Can you please provide me with an overview of what your department’s key functions or processes are you perform?\n",
    "* What is the purpose of this process?\n",
    "* What triggers this process to start?\n",
    "* Who is responsible to perform this process?\n",
    "* How does this process work today?\n",
    "* What is the end result or output of this process?\n",
    "* Is there a system that supports this process today?\n",
    "* If there is a system, are you able to show us how this system works?\n",
    "* If there is a system, are you able to provide us with some screen shots from this system?\n",
    "* Which areas of this process can be improved?\n",
    "* Why this is a problem area?\n",
    "* What do you believe will help address this problem?}\n",
    "* Do you currently have any existing operational reports which help you manage this team?\n",
    "* Are you able to tell us about your most important reports?\n",
    "* Which systems produce your reports for you?\n",
    "* Are you able to share some examples of these reports with me/us?\n",
    "* If no, Tell us about some of your reporting requirements. What would you really like to see produced as a report? Why?\n",
    "* If you were able to provide me with your top 3 business requirements for this project, what would they be?\n",
    "* Why is this requirement important to your business function / group / team?\n",
    "* What will this requirement enable your team to do differently or better?"
   ]
  },
  {
   "cell_type": "markdown",
   "metadata": {},
   "source": [
    "### Background Information\n",
    "\n",
    "* What is the purpose of the website?\n",
    "* What are your corporate core values and how do you express them to your visitors?\n",
    "* Describe the style of the website you want.\n",
    "* What do you like most about your current website?\n",
    "* What are your top 3 frustrations with your current website?\n",
    "* Are there any websites with designs that you like?\n",
    "* What types of things do you see on other websites that you really like?\n",
    "* Name the 3 things that are most important in the design of your new website.\n",
    "* Does your current web host meet all your new website’s needs (space, bandwidth, databases, etc.)?\n",
    "* Do you have the content for the website or will content creation be a part of the scope of work?\n",
    "* What types of actions do you want your visitors to take on your website?\n",
    "* Will we need to find and/or create any images for the website?\n",
    "* Will video or audio be a part of the new website?\n",
    "* How many videos or audio files will be added and/or created?\n",
    "* Do you require online chat features?\n",
    "* Do you have any other media or PDF documents that need to be incorporated, or will any need to be created?\n",
    "* Will you need a shopping cart system for e-commerce?\n",
    "* Does your site need a blog or a forum?\n",
    "* Will users need to log in to your site for any reason?\n",
    "* Do you need any password protected areas?\n",
    "* What kind of content will be put behind password protected areas?\n",
    "* Do you need any social sharing features built in (tweet, like, +1, share, etc.)?\n",
    "* Do you require a database?\n",
    "* Will you need an events calendar feature?\n",
    "* What information must always be visible?\n",
    "* What features, sections or information do you want emphasized on the site?"
   ]
  }
 ],
 "metadata": {
  "kernelspec": {
   "display_name": "Python 3",
   "language": "python",
   "name": "python3"
  },
  "language_info": {
   "codemirror_mode": {
    "name": "ipython",
    "version": 3
   },
   "file_extension": ".py",
   "mimetype": "text/x-python",
   "name": "python",
   "nbconvert_exporter": "python",
   "pygments_lexer": "ipython3",
   "version": "3.7.0"
  }
 },
 "nbformat": 4,
 "nbformat_minor": 2
}
