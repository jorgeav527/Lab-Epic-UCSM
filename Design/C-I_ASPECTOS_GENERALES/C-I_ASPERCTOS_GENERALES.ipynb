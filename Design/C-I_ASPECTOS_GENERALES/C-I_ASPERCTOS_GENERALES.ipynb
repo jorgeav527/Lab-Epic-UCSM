{
 "cells": [
  {
   "cell_type": "markdown",
   "metadata": {},
   "source": [
    "# CAPITULO I: ASPECTOS GENERALES\n",
    "---"
   ]
  },
  {
   "cell_type": "markdown",
   "metadata": {},
   "source": [
    "1.1.- Nombre Del Proyecto"
   ]
  },
  {
   "cell_type": "markdown",
   "metadata": {},
   "source": [
    "> **“Sistematización y Elaboración \n",
    "de Pagina Web  de los Laboratorios de Ingeniería Civil – FAICA - UCSM”**"
   ]
  },
  {
   "cell_type": "markdown",
   "metadata": {},
   "source": [
    "1.2.- Propósito y justificación del proyecto"
   ]
  },
  {
   "cell_type": "markdown",
   "metadata": {},
   "source": [
    "Los Laboratorios de Ingeniería Civil, ubicados en la Calle Cayetano Arenas 152, Parque Industrial, pertenecientes al Programa Profesional de Ingeniería Civil –FAICA–UCSM, comenzaron su funcionamiento en el año 2004, con un equipamiento de última generación y una infraestructura diseñada especialmente para el funcionamiento adecuado de los laboratorios.\n",
    " \n",
    "Los Laboratorios  prestan  servicios académicos, a los grupos de práctica de los diversos cursos del Programa, que así lo requieran, como parte del desarrollo curricular y  su futuro desarrollo profesional. Así mismo se ha generado la prestación de  servicios  a la comunidad."
   ]
  },
  {
   "cell_type": "markdown",
   "metadata": {},
   "source": [
    "Estos servicios se han ido incrementando con el tiempo, y el manejo de la información ha crecido con la demanda, lo cual ocasiona un retraso en la ejecución de las actividades del laboratorio, generando pérdidas y costo extras.\n",
    "\n",
    "Por lo expuesto, se requiere la sistematización y optimización de los procesos del laboratorio con la implementación de un sistema de información hecho a la medida, que facilite la labor que realiza el personal y el aseguramiento de la información producida en el laboratorio."
   ]
  },
  {
   "cell_type": "markdown",
   "metadata": {},
   "source": [
    "1.3.- Participación de las entidades involucradas y de los beneficiarios\n",
    "\n",
    "Entidades involucradas: \n",
    "* Universidad Católica de Santa María\n",
    "* Laboratorios de Ingeniería Civil – Parque Industrial.\n",
    "\n",
    "Beneficiarios: \n",
    "* Alumnos regulares, egresados,  docentes y no docentes de la Universidad Católica de Santa María.  \n",
    "* En la parte externa tenemos los clientes del Sector Construcción."
   ]
  },
  {
   "cell_type": "markdown",
   "metadata": {},
   "source": [
    "1.4.- Involucrados\n",
    "\n",
    "| Nombre | Cargo | Departamento |\n",
    "| :--- | :--- | :--- |\n",
    "| Dr. Ing. Alejandro Hidalgo Valdivia | Encargado del Laboratorio de Suelos y Concreto | Laboratorios de Ingeniería Civil / FAICA |\n",
    "| Arq. Mónica Macedo Cuadros | Encargada del Gabinete de Topografía | Laboratorios de Ingeniería Civil / FAICA |\n",
    "| Bachiller Ing. Civil Jorge Ramiro Alarcon Vargas | Analista y desarrollador | FAICA |"
   ]
  },
  {
   "cell_type": "code",
   "execution_count": null,
   "metadata": {},
   "outputs": [],
   "source": []
  }
 ],
 "metadata": {
  "kernelspec": {
   "display_name": "Python 3",
   "language": "python",
   "name": "python3"
  },
  "language_info": {
   "codemirror_mode": {
    "name": "ipython",
    "version": 3
   },
   "file_extension": ".py",
   "mimetype": "text/x-python",
   "name": "python",
   "nbconvert_exporter": "python",
   "pygments_lexer": "ipython3",
   "version": "3.7.0"
  }
 },
 "nbformat": 4,
 "nbformat_minor": 2
}
