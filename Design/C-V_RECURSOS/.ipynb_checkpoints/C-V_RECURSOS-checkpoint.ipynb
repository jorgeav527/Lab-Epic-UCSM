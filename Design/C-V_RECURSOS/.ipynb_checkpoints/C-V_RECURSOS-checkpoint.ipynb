{
 "cells": [
  {
   "cell_type": "markdown",
   "metadata": {},
   "source": [
    "# CAPITULO V: RECURSOS\n",
    "---"
   ]
  },
  {
   "cell_type": "markdown",
   "metadata": {},
   "source": [
    "5.1.   Requerimientos   del  proyecto \n",
    "\n",
    "Para la ejecución del proyecto el laboratorio de suelos y concreto de la UCSM deberá cumplir con los  siguientes  requerimientos:"
   ]
  },
  {
   "cell_type": "markdown",
   "metadata": {},
   "source": [
    "Requerimientos de Espacio:\n",
    "\n",
    "* Una oficina dentro del laboratorio de suelos y concreto de la UCSM"
   ]
  },
  {
   "cell_type": "markdown",
   "metadata": {},
   "source": [
    "Requerimientos de Hardware:\n",
    "\n",
    "* Una computadora Intel-Core I3 con 4 nucleos, 4 subprocesos y 8 GB de RAM o su similar en otras marcas.\n",
    "* Dos monitores LCD TV HD de 20\"\n",
    "* Una impresora\n",
    "* Un servidor"
   ]
  },
  {
   "cell_type": "markdown",
   "metadata": {},
   "source": [
    "Requerimiento de Software:\n",
    "\n",
    "Algunos de los programas que se instalaran:\n",
    "\n",
    "| Programa | Empresa | Versión | \n",
    "| :---| :---| :---|\n",
    "| Linux Distro Ubuntu | GENERAL PUBLIC LICENSE | 18.10 |\n",
    "| VS Code | GENERAL PUBLIC LICENSE | Ultima |\n",
    "| Anaconda | GENERAL PUBLIC LICENSE | Ultima |\n",
    "| LAMP | GENERAL PUBLIC LICENSE | Ultima |\n",
    "| LibreOffice | GENERAL PUBLIC LICENSE | Ultima |\n",
    "| Gimp | GENERAL PUBLIC LICENSE | Ultima |\n",
    "| GIT | GENERAL PUBLIC LICENSE | Ultima |"
   ]
  },
  {
   "cell_type": "markdown",
   "metadata": {},
   "source": [
    "5.2. Justificación de requerimiento de Software"
   ]
  },
  {
   "cell_type": "markdown",
   "metadata": {},
   "source": [
    "**Linux Distro Ubuntu 18.10.-** Se escogio la distribución Linux por [(Source)](https://www.computerhope.com/issues/ch000575.htm):\n",
    "\n",
    "* Ser una plataforma totalmente de codigo abierto.\n",
    "* Seguro, Confiable, y veloz por ser el sistema predilecto para servidores.\n",
    "* Facilidad para la instalación de programas.\n",
    "* Usado por corporaciones, investigaciones y ciencias."
   ]
  },
  {
   "cell_type": "markdown",
   "metadata": {},
   "source": [
    "<img src=\"./img/Ubuntu.jpg\">"
   ]
  },
  {
   "cell_type": "markdown",
   "metadata": {},
   "source": [
    "**VS Code.-** Visual Studio Code es un editor de código fuente. Es compatible con varios lenguajes de programación, servira dentro del proyecto para:\n",
    "\n",
    "* Construcción de la pagina Web del laboratorio.\n",
    "* Insertar algoritmos con el lenguaje Python en el código HTML.\n",
    "* Construir FrameSet si es necesario en el proyecto."
   ]
  },
  {
   "cell_type": "markdown",
   "metadata": {},
   "source": [
    "<img src=\"./img/vscode.jpeg\">"
   ]
  },
  {
   "cell_type": "markdown",
   "metadata": {},
   "source": [
    "**Anaconda.-** Es un distribución libre de los lenguajes Python y R, se utilizara para:\n",
    "\n",
    "* Automatizar procesos en Linux pero que pudieran escalar en otros sistemas operativos.\n",
    "* Aplicar ciencia de datos a los procesos de laboratorio.\n",
    "* Aplicar estadística y aprendizaje automático (machine learning). \n",
    "* Esto incluye procesamiento de grandes volúmenes de información, análisis predictivo y cómputos científicos. "
   ]
  },
  {
   "cell_type": "markdown",
   "metadata": {},
   "source": [
    "<img src=\"./img/anaconda.png\">"
   ]
  },
  {
   "cell_type": "markdown",
   "metadata": {},
   "source": [
    "**LAMP.-** Programa que sirve para la combinación de tecnologías, es usada principalmente para definir la infraestructura de un servidor web, utilizando un paradigma de programación para el desarrollo:\n",
    "\n",
    "* Linux, el sistema operativo.\n",
    "* Apache, el servidor web.\n",
    "* MySQL/MariaDB, el gestor de bases de datos\n",
    "* Perl, PHP, o Python, los lenguajes de programación."
   ]
  },
  {
   "cell_type": "markdown",
   "metadata": {},
   "source": [
    "<img src=\"./img/lamp-logos.png\">"
   ]
  },
  {
   "cell_type": "markdown",
   "metadata": {},
   "source": [
    "**LibreOffice.-** Este conjunto de programas se usará para las siguientes acciones:\n",
    "\n",
    "* Digitalizar documentos de solicitudes y avances."
   ]
  },
  {
   "cell_type": "markdown",
   "metadata": {},
   "source": [
    "<img src=\"./img/libre.jpeg\">\n",
    "<img src=\"./img/wine.png\">"
   ]
  },
  {
   "cell_type": "markdown",
   "metadata": {},
   "source": [
    "**Gimp.-** Programa para el diseño gráfico Web que servirá dentro del proyecto para:\n",
    "\n",
    "* Diseñar gráficos para el desarrollo de la pagina Web.\n",
    "* Retocar fotos para la pagina Web del laboratorio."
   ]
  },
  {
   "cell_type": "markdown",
   "metadata": {},
   "source": [
    "<img src=\"./img/vs.jpeg\">"
   ]
  },
  {
   "cell_type": "markdown",
   "metadata": {},
   "source": [
    "**GIT.-** Sistema de control de versiones:\n",
    "\n",
    "* Rapidez en la gestión de ramas, debido a que Git nos dice que un cambio será fusionado mucho más frecuentemente de lo que se escribe originalmente.\n",
    "* Gestión eficiente de proyectos grandes.\n",
    "* Realmacenamiento periódico en paquetes."
   ]
  },
  {
   "cell_type": "markdown",
   "metadata": {},
   "source": [
    "<img src=\"./img/git.png\">"
   ]
  },
  {
   "cell_type": "code",
   "execution_count": null,
   "metadata": {},
   "outputs": [],
   "source": []
  }
 ],
 "metadata": {
  "kernelspec": {
   "display_name": "Python 3",
   "language": "python",
   "name": "python3"
  },
  "language_info": {
   "codemirror_mode": {
    "name": "ipython",
    "version": 3
   },
   "file_extension": ".py",
   "mimetype": "text/x-python",
   "name": "python",
   "nbconvert_exporter": "python",
   "pygments_lexer": "ipython3",
   "version": "3.7.0"
  }
 },
 "nbformat": 4,
 "nbformat_minor": 2
}
